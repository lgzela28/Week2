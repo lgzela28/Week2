{
 "cells": [
  {
   "cell_type": "markdown",
   "metadata": {},
   "source": [
    "## Homework\n",
    "\n",
    "Complete this notebook and the exercise prompts in the other lecture notebooks and submit them on GitHub"
   ]
  },
  {
   "cell_type": "markdown",
   "metadata": {},
   "source": [
    "Question 1: Provide a definition of and example for each of these terms:\n",
    "\n",
    "| Term | Example | Definition |\n",
    "| ----- | ------- | ---------- |\n",
    "| type  |     determines the kind of operations       | x=5 integer    | \n",
    "| variables  |   the location where values are stored         |   favorite_food: str=\"pizza\"  | \n",
    "| boolean  |      data that can only be true or false       |   bananas_are_yellow = True  | \n",
    "| arithmetic operators  |    do math        |   z=2 y=2 sum=z+y difference=y-z product=y*z quotient=y/z mod=z%y  | \n",
    "| operands  |      the variables on which the operators work      |   using the variables above z and y are operands  | \n",
    "| comparison operator  |    an operator used to compare 2 values        |   equal=(z==y) greater=(z>y) less_or_equal=(x<=y)   | \n",
    "| boolean operator   |     used to combine or modify boolean values      |   a=True b=False and_ab=a and b  or_ab= a or b not_ab= not a    | \n",
    "| conditional statement   |    execute something whether something is true or false        |   age=25 if age>18: print(\"You are not an adult.\") else: print(\"You are an adult.\")  | \n"
   ]
  },
  {
   "cell_type": "markdown",
   "metadata": {},
   "source": []
  },
  {
   "cell_type": "markdown",
   "metadata": {},
   "source": [
    "Question 2: For each of these operators, for each of the python data types we know, can it take them as operands? Write `Y` or `N` (Assume both operands are the same type.)\n",
    "\n",
    "| Operator | Int/Float | String | Boolean | \n",
    "| -------  | --------- | ------ | ------- | \n",
    "| +\t|         |       |           | \n",
    "| -\t|         |       |           | \n",
    "| *\t|         |       |           |   \n",
    "| /\t|         |       |           |   \n",
    "| **\t|         |       |           |   \n",
    "| % |         |       |           |   \n",
    "| == |         |       |           |   \n",
    "| != |         |       |           |   \n",
    "| > |         |       |           |   \n",
    "| < |         |       |           |   \n",
    "| >= |         |       |           |   \n",
    "| <= |         |       |           |   \n",
    "| and |         |       |           |   \n",
    "| or |         |       |           |   \n",
    "| not |         |       |           |   "
   ]
  },
  {
   "cell_type": "markdown",
   "metadata": {},
   "source": [
    "Question 3:  There are three aspects to any problem in computing - INPUT, COMPUTATION, OUTPUT. Use this framework to break down a problem. Describe what are the inputs, how to get them, what computation you would do, and how would you output them."
   ]
  },
  {
   "cell_type": "markdown",
   "metadata": {},
   "source": [
    "Question 4: Identify the problems in the following pieces of code and fix them. Describe the problem either by writing comment in the code cell or using Markdown"
   ]
  },
  {
   "cell_type": "code",
   "execution_count": null,
   "metadata": {},
   "outputs": [],
   "source": [
    "# A.\n",
    "my_variable: int = \"123\""
   ]
  },
  {
   "cell_type": "code",
   "execution_count": null,
   "metadata": {},
   "outputs": [],
   "source": [
    "# B\n",
    "print my_variable"
   ]
  },
  {
   "cell_type": "code",
   "execution_count": 2,
   "metadata": {},
   "outputs": [],
   "source": [
    "# C\n",
    "num_a: int = 5\n",
    "num_b: int = 10\n",
    "\n",
    "if num_a < num_b\n",
    "    print(\"num_a is less than num_b\")\n",
    "else\n",
    "    print(\"num_b is less than num_a"
   ]
  },
  {
   "cell_type": "code",
   "execution_count": null,
   "metadata": {},
   "outputs": [],
   "source": [
    "# D\n",
    "user_name: str = \"Kal-El\"\n",
    "home: str = \"Krypton\"\n",
    "\n",
    "print(f\"Hello user_name from home. Welcome to earth\")"
   ]
  },
  {
   "cell_type": "markdown",
   "metadata": {},
   "source": [
    "Question 5: What is the following expression checking? What does it evaluate to? How can you modify the expression to get the opposite value?"
   ]
  },
  {
   "cell_type": "code",
   "execution_count": 3,
   "metadata": {},
   "outputs": [
    {
     "data": {
      "text/plain": [
       "'hello'"
      ]
     },
     "execution_count": 3,
     "metadata": {},
     "output_type": "execute_result"
    }
   ],
   "source": [
    "\"hello\" in \"hi, how are you doing?\""
   ]
  },
  {
   "cell_type": "markdown",
   "metadata": {},
   "source": [
    "Question 6: Convert the instruction/question into code\n",
    "\n",
    "* A: Convert all the letters into uppercase letters - \"hEElOO\"  \n",
    "* B: Check if the string \"hello123\" has only letters\n",
    "* C: Count the number of letters in the word \"strawberry\"\n",
    "* D: Count the number of the letter \"e\" in the string: \"Do you find this humorous?\""
   ]
  },
  {
   "cell_type": "markdown",
   "metadata": {},
   "source": [
    "Question 7: Write a snippet that asks users for their age. Tell them if they are old enough to drive or not. "
   ]
  },
  {
   "cell_type": "markdown",
   "metadata": {},
   "source": [
    "Question 8: Check their answer and respond accordingly. If they say their age is 2, tell them they have barely starte walking, if they say their age is 200, tell them if they are human or a robot"
   ]
  },
  {
   "cell_type": "markdown",
   "metadata": {},
   "source": [
    "Question 9: At each stage, check if they are providing numbers or not. If not, tell them to do so."
   ]
  }
 ],
 "metadata": {
  "kernelspec": {
   "display_name": "Python 3",
   "language": "python",
   "name": "python3"
  },
  "language_info": {
   "codemirror_mode": {
    "name": "ipython",
    "version": 3
   },
   "file_extension": ".py",
   "mimetype": "text/x-python",
   "name": "python",
   "nbconvert_exporter": "python",
   "pygments_lexer": "ipython3",
   "version": "3.11.9"
  }
 },
 "nbformat": 4,
 "nbformat_minor": 2
}
