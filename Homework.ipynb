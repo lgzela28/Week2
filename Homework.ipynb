{
 "cells": [
  {
   "cell_type": "markdown",
   "metadata": {},
   "source": [
    "## Homework\n",
    "\n",
    "Complete this notebook and the exercise prompts in the other lecture notebooks and submit them on GitHub"
   ]
  },
  {
   "cell_type": "markdown",
   "metadata": {},
   "source": [
    "Question 1: Provide a definition of and example for each of these terms:\n",
    "\n",
    "| Term | Example | Definition |\n",
    "| ----- | ------- | ---------- |\n",
    "| type  |     determines the kind of operations       | x=5 integer    | \n",
    "| variables  |   the location where values are stored         |   favorite_food: str=\"pizza\"  | \n",
    "| boolean  |      data that can only be true or false       |   bananas_are_yellow = True  | \n",
    "| arithmetic operators  |    do math        |   z=2 y=2 sum=z+y difference=y-z product=y*z quotient=y/z mod=z%y  | \n",
    "| operands  |      the variables on which the operators work      |   using the variables above z and y are operands  | \n",
    "| comparison operator  |    an operator used to compare 2 values        |   equal=(z==y) greater=(z>y) less_or_equal=(x<=y)   | \n",
    "| boolean operator   |     used to combine or modify boolean values      |   a=True b=False and_ab=a and b  or_ab= a or b not_ab= not a    | \n",
    "| conditional statement   |    execute something whether something is true or false        |   age=25 if age>18: print(\"You are not an adult.\") else: print(\"You are an adult.\")  | \n"
   ]
  },
  {
   "cell_type": "markdown",
   "metadata": {},
   "source": []
  },
  {
   "cell_type": "markdown",
   "metadata": {},
   "source": [
    "Question 2: For each of these operators, for each of the python data types we know, can it take them as operands? Write `Y` or `N` (Assume both operands are the same type.)\n",
    "\n",
    "| Operator | Int/Float | String | Boolean | \n",
    "| -------  | --------- | ------ | ------- | \n",
    "| +\t|   y     |    y   |      n     | \n",
    "| -\t|    y     |   n    |     n      | \n",
    "| *\t|     y    |  y     |       n    |   \n",
    "| /\t|      y   |    y   |     n      |   \n",
    "| **\t|    y     |    n   |      n     |   \n",
    "| % |    y     |    n   |      n     |   \n",
    "| == |    y     |     y  |     y      |   \n",
    "| != |    y     |    y   |      y     |   \n",
    "| > |      y   |     n  |     n      |   \n",
    "| < |      y   |    n   |      n     |   \n",
    "| >= |    y     |    n   |     n     |   \n",
    "| <= |     y    |   n    |     n     |   \n",
    "| and |    n     |  n     |     y      |   \n",
    "| or |     n    |   n    |      y     |   \n",
    "| not |     n    |   n    |     y      |   "
   ]
  },
  {
   "cell_type": "markdown",
   "metadata": {},
   "source": [
    "Question 3:  There are three aspects to any problem in computing - INPUT, COMPUTATION, OUTPUT. Use this framework to break down a problem. Describe what are the inputs, how to get them, what computation you would do, and how would you output them."
   ]
  },
  {
   "cell_type": "markdown",
   "metadata": {},
   "source": [
    "Question 4: Identify the problems in the following pieces of code and fix them. Describe the problem either by writing comment in the code cell or using Markdown"
   ]
  },
  {
   "cell_type": "code",
   "execution_count": null,
   "metadata": {},
   "outputs": [],
   "source": [
    "# A.\n",
    "my_variable: int = 123\n",
    "\n",
    "#You cannot save an integer with quotation marks. That would be a string. "
   ]
  },
  {
   "cell_type": "code",
   "execution_count": null,
   "metadata": {},
   "outputs": [],
   "source": [
    "# B\n",
    "print(my_variable)\n",
    "\n",
    "#Anything that goes in a print statement has to have parentheses."
   ]
  },
  {
   "cell_type": "code",
   "execution_count": 2,
   "metadata": {},
   "outputs": [],
   "source": [
    "# C\n",
    "num_a: int = 5\n",
    "num_b: int = 10\n",
    "\n",
    "if num_a < num_b:\n",
    "    print(\"num_a is less than num_b\")\n",
    "else:\n",
    "    print(\"num_b is less than num_a\")\n",
    "          \n",
    "#after an if statement you need a colon. You also have to close the parentheses and quotation mark."
   ]
  },
  {
   "cell_type": "code",
   "execution_count": 1,
   "metadata": {},
   "outputs": [
    {
     "name": "stdout",
     "output_type": "stream",
     "text": [
      "Hello Kal-El from Krypton. Welcome to earth\n"
     ]
    }
   ],
   "source": [
    "# D\n",
    "user_name: str = \"Kal-El\"\n",
    "home: str = \"Krypton\"\n",
    "\n",
    "print(f\"Hello {user_name} from {home}. Welcome to earth\")\n",
    "\n",
    "#In order to use an f statement you have to use the squiggly brackets."
   ]
  },
  {
   "cell_type": "markdown",
   "metadata": {},
   "source": [
    "Question 5: What is the following expression checking? What does it evaluate to? How can you modify the expression to get the opposite value?"
   ]
  },
  {
   "cell_type": "code",
   "execution_count": 3,
   "metadata": {},
   "outputs": [
    {
     "data": {
      "text/plain": [
       "'hello'"
      ]
     },
     "execution_count": 3,
     "metadata": {},
     "output_type": "execute_result"
    }
   ],
   "source": [
    "\"hello\" in \"hi, how are you doing?\"\n",
    "\n",
    "#this is checking if hello is in hi, how are you doing. this would evaluate to false because hello is not in that string. To get the opposite value (True) I could put not in front and the rest of the sentence in parantheses.\n",
    "\n",
    "not (\"hello\" in \"hi, how are you doing?\")"
   ]
  },
  {
   "cell_type": "markdown",
   "metadata": {},
   "source": [
    "Question 6: Convert the instruction/question into code\n",
    "\n",
    "* A: Convert all the letters into uppercase letters - \"hEElOO\"  \n",
    "* B: Check if the string \"hello123\" has only letters\n",
    "* C: Count the number of letters in the word \"strawberry\"\n",
    "* D: Count the number of the letter \"e\" in the string: \"Do you find this humorous?\""
   ]
  },
  {
   "cell_type": "code",
   "execution_count": 5,
   "metadata": {},
   "outputs": [
    {
     "data": {
      "text/plain": [
       "0"
      ]
     },
     "execution_count": 5,
     "metadata": {},
     "output_type": "execute_result"
    }
   ],
   "source": [
    "\"hEElOO\".upper()\n",
    "\"hello123\".isalpha()\n",
    "len(\"strawberry\")\n",
    "\"Do you find this humourous?\".count(\"e\")"
   ]
  },
  {
   "cell_type": "markdown",
   "metadata": {},
   "source": [
    "Question 7: Write a snippet that asks users for their age. Tell them if they are old enough to drive or not. "
   ]
  },
  {
   "cell_type": "code",
   "execution_count": 13,
   "metadata": {},
   "outputs": [
    {
     "name": "stdout",
     "output_type": "stream",
     "text": [
      "You have not entered a number\n"
     ]
    }
   ],
   "source": [
    "age: 16 \n",
    "age_input= str(input(\"How old are you?\"))\n",
    "if(not age_input.isdigit()):\n",
    "    print(\"You have not entered a number\")\n",
    "elif age_input==2:\n",
    "    print(\"You are a toddler. You have barely started walking.\")\n",
    "elif age_input==200:\n",
    "    print(\"WOW! Are you a human or a robot?\")\n",
    "elif (age_input >= 16):\n",
    "    print(\"You are old enough to drive.\")\n",
    "else:\n",
    "    print(\"You are not old enough to drive.\")"
   ]
  },
  {
   "cell_type": "markdown",
   "metadata": {},
   "source": [
    "Question 8: Check their answer and respond accordingly. If they say their age is 2, tell them they have barely starte walking, if they say their age is 200, tell them if they are human or a robot"
   ]
  },
  {
   "cell_type": "markdown",
   "metadata": {},
   "source": [
    "Question 9: At each stage, check if they are providing numbers or not. If not, tell them to do so."
   ]
  }
 ],
 "metadata": {
  "kernelspec": {
   "display_name": "Python 3",
   "language": "python",
   "name": "python3"
  },
  "language_info": {
   "codemirror_mode": {
    "name": "ipython",
    "version": 3
   },
   "file_extension": ".py",
   "mimetype": "text/x-python",
   "name": "python",
   "nbconvert_exporter": "python",
   "pygments_lexer": "ipython3",
   "version": "3.9.6"
  }
 },
 "nbformat": 4,
 "nbformat_minor": 2
}
